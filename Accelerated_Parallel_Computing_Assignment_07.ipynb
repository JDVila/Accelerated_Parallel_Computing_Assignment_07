{
  "nbformat": 4,
  "nbformat_minor": 0,
  "metadata": {
    "colab": {
      "provenance": [],
      "gpuType": "T4",
      "authorship_tag": "ABX9TyNN/zq3EU140BbbdmA0I8It",
      "include_colab_link": true
    },
    "kernelspec": {
      "name": "python3",
      "display_name": "Python 3"
    },
    "language_info": {
      "name": "python"
    },
    "accelerator": "GPU"
  },
  "cells": [
    {
      "cell_type": "markdown",
      "metadata": {
        "id": "view-in-github",
        "colab_type": "text"
      },
      "source": [
        "<a href=\"https://colab.research.google.com/github/JDVila/Accelerated_Parallel_Computing_Assignment_07/blob/main/Accelerated_Parallel_Computing_Assignment_07.ipynb\" target=\"_parent\"><img src=\"https://colab.research.google.com/assets/colab-badge.svg\" alt=\"Open In Colab\"/></a>"
      ]
    },
    {
      "cell_type": "code",
      "execution_count": 1,
      "metadata": {
        "colab": {
          "base_uri": "https://localhost:8080/"
        },
        "id": "8GxIPSsZb0qt",
        "outputId": "1a102337-ea57-44e8-cc1f-8fd88b63dc30"
      },
      "outputs": [
        {
          "output_type": "stream",
          "name": "stdout",
          "text": [
            "nvcc: NVIDIA (R) Cuda compiler driver\n",
            "Copyright (c) 2005-2022 NVIDIA Corporation\n",
            "Built on Wed_Sep_21_10:33:58_PDT_2022\n",
            "Cuda compilation tools, release 11.8, V11.8.89\n",
            "Build cuda_11.8.r11.8/compiler.31833905_0\n"
          ]
        }
      ],
      "source": [
        "!nvcc --version"
      ]
    },
    {
      "cell_type": "code",
      "source": [
        "!pip install git+https://github.com/andreinechaev/nvcc4jupyter.git"
      ],
      "metadata": {
        "colab": {
          "base_uri": "https://localhost:8080/"
        },
        "id": "prxSOZIeb8mT",
        "outputId": "e2690971-a635-468a-bccb-7a94eda99b68"
      },
      "execution_count": 2,
      "outputs": [
        {
          "output_type": "stream",
          "name": "stdout",
          "text": [
            "Collecting git+https://github.com/andreinechaev/nvcc4jupyter.git\n",
            "  Cloning https://github.com/andreinechaev/nvcc4jupyter.git to /tmp/pip-req-build-bd3s9r8_\n",
            "  Running command git clone --filter=blob:none --quiet https://github.com/andreinechaev/nvcc4jupyter.git /tmp/pip-req-build-bd3s9r8_\n",
            "  Resolved https://github.com/andreinechaev/nvcc4jupyter.git to commit 0a71d56e5dce3ff1f0dd2c47c29367629262f527\n",
            "  Preparing metadata (setup.py) ... \u001b[?25l\u001b[?25hdone\n"
          ]
        }
      ]
    },
    {
      "cell_type": "code",
      "source": [
        "%load_ext nvcc_plugin"
      ],
      "metadata": {
        "colab": {
          "base_uri": "https://localhost:8080/"
        },
        "id": "2hdUDLrlb-49",
        "outputId": "a07d1d8d-2126-4cbf-cef1-eb3fce76f969"
      },
      "execution_count": 3,
      "outputs": [
        {
          "output_type": "stream",
          "name": "stdout",
          "text": [
            "directory /content/src already exists\n",
            "Out bin /content/result.out\n"
          ]
        }
      ]
    },
    {
      "cell_type": "code",
      "source": [
        "%%cu\n",
        "#include <stdio.h>\n",
        "\n",
        "__global__\n",
        "void global_max(int* values, int* gl_min, int* gl_max)\n",
        "{\n",
        "  int i = threadIdx.x + blockDim.x * blockIdx.x;\n",
        "  int val = values[i];\n",
        "  atomicMin(gl_min, val);\n",
        "  atomicMax(gl_max, val);\n",
        "}\n",
        "\n",
        "int main(void)\n",
        "{\n",
        "  int N = 100;\n",
        "  int *x, *y, *z, *d_x, *d_y, *d_z;\n",
        "  x = (int*)malloc(N*sizeof(int));\n",
        "  y = (int*)malloc(sizeof(int));\n",
        "  z = (int*)malloc(sizeof(int));\n",
        "\n",
        "  cudaMalloc(&d_x, N*sizeof(int));\n",
        "  cudaMalloc(&d_y, sizeof(int));\n",
        "  cudaMalloc(&d_z, sizeof(int));\n",
        "\n",
        "  for (int i = 0; i < N; i++) {\n",
        "    x[i] = i * (i%9 +1);\n",
        "  }\n",
        "\n",
        "  cudaMemcpy(d_x, x, N*sizeof(int), cudaMemcpyHostToDevice);\n",
        "  cudaMemcpy(d_y, y, sizeof(int), cudaMemcpyHostToDevice);\n",
        "  cudaMemcpy(d_z, z, sizeof(int), cudaMemcpyHostToDevice);\n",
        "\n",
        "  global_max<<<1,N>>>(d_x, d_y, d_z);\n",
        "\n",
        "  cudaMemcpy(y, d_y, sizeof(int), cudaMemcpyDeviceToHost);\n",
        "  cudaMemcpy(z, d_z, sizeof(int), cudaMemcpyDeviceToHost);\n",
        "\n",
        "  printf(\"gl_min: %i\\n\", *y);\n",
        "  printf(\"gl_max: %i\\n\", *z);\n",
        "\n",
        "  cudaFree(d_x);\n",
        "  cudaFree(d_y);\n",
        "  cudaFree(d_z);\n",
        "  free(x);\n",
        "  free(y);\n",
        "  free(z);\n",
        "}"
      ],
      "metadata": {
        "colab": {
          "base_uri": "https://localhost:8080/"
        },
        "id": "gEctWAEnZAAW",
        "outputId": "e60f7e30-6786-4caf-f264-82810e0015b1"
      },
      "execution_count": 4,
      "outputs": [
        {
          "output_type": "stream",
          "name": "stdout",
          "text": [
            "gl_min: 0\n",
            "gl_max: 882\n",
            "\n"
          ]
        }
      ]
    }
  ]
}